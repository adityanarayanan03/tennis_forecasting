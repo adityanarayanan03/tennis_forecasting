{
 "cells": [
  {
   "cell_type": "code",
   "execution_count": 1,
   "metadata": {},
   "outputs": [],
   "source": [
    "from PlayerDB import PlayerDB\n",
    "\n",
    "db = PlayerDB()\n",
    "db.populate_from_csv('tennis_pointbypoint/pbp_matches_atp_main_current.csv')"
   ]
  },
  {
   "cell_type": "code",
   "execution_count": 16,
   "metadata": {},
   "outputs": [],
   "source": [
    "\n",
    "player_mc = db.get_player_mc('Radu Albot')"
   ]
  },
  {
   "cell_type": "code",
   "execution_count": 17,
   "metadata": {},
   "outputs": [
    {
     "name": "stdout",
     "output_type": "stream",
     "text": [
      "0 - 15, 15 - 15, 30 - 15, 40 - 15, W, \n",
      "0 - 15, 15 - 15, 30 - 15, 30 - 30, 30 - 40, 40 - 40, 40 - Ad, 40 - 40, Ad - 40, 40 - 40, 40 - Ad, 40 - 40, 40 - Ad, L, \n",
      "0 - 15, 15 - 15, 15 - 30, 30 - 30, 40 - 30, W, \n",
      "0 - 15, 0 - 30, 15 - 30, 30 - 30, 40 - 30, 40 - 40, Ad - 40, 40 - 40, Ad - 40, W, \n",
      "15 - 0, 30 - 0, 40 - 0, 40 - 15, 40 - 30, 40 - 40, Ad - 40, W, \n",
      "0 - 15, 15 - 15, 15 - 30, 30 - 30, 40 - 30, W, \n",
      "0 - 15, 15 - 15, 30 - 15, 40 - 15, W, \n",
      "0 - 15, 15 - 15, 15 - 30, 30 - 30, 40 - 30, 40 - 40, Ad - 40, 40 - 40, Ad - 40, 40 - 40, 40 - Ad, L, \n",
      "0 - 15, 15 - 15, 30 - 15, 40 - 15, 40 - 30, W, \n",
      "0 - 15, 15 - 15, 15 - 30, 15 - 40, 30 - 40, 40 - Ad, L, \n",
      "0 - 15, 0 - 30, 15 - 30, 15 - 40, 30 - 40, 40 - 40, 40 - Ad, 40 - 40, 40 - Ad, 40 - 40, 40 - Ad, L, \n",
      "0 - 15, 15 - 15, 30 - 15, 30 - 30, 40 - 30, W, \n",
      "0 - 15, 0 - 30, 15 - 30, 30 - 30, 30 - 40, 40 - Ad, L, \n",
      "0 - 15, 15 - 15, 30 - 15, 30 - 30, 30 - 40, 40 - 40, Ad - 40, W, \n",
      "15 - 0, 15 - 15, 30 - 15, 40 - 15, W, \n",
      "0 - 15, 15 - 15, 15 - 30, 30 - 30, 40 - 30, 40 - 40, 40 - Ad, 40 - 40, 40 - Ad, L, \n",
      "0 - 15, 15 - 15, 30 - 15, 40 - 15, 40 - 30, W, \n",
      "0 - 15, 15 - 15, 30 - 15, 30 - 30, 40 - 30, W, \n",
      "15 - 0, 30 - 0, 40 - 0, W, \n",
      "0 - 15, 0 - 30, 15 - 30, 15 - 40, L, \n",
      "15 - 0, 30 - 0, 40 - 0, 40 - 15, 40 - 30, 40 - 40, 40 - Ad, 40 - 40, 40 - Ad, 40 - 40, Ad - 40, W, \n",
      "0 - 15, 0 - 30, 15 - 30, 15 - 40, L, \n",
      "15 - 0, 15 - 15, 30 - 15, 40 - 15, W, \n",
      "0 - 15, 15 - 15, 30 - 15, 30 - 30, 30 - 40, 40 - Ad, 40 - 40, Ad - 40, W, \n",
      "15 - 0, 30 - 0, 40 - 0, W, \n",
      "0 - 15, 15 - 15, 30 - 15, 40 - 15, 40 - 30, 40 - 40, 40 - Ad, 40 - 40, 40 - Ad, L, \n",
      "15 - 0, 15 - 15, 15 - 30, 15 - 40, L, \n",
      "0 - 15, 0 - 30, 15 - 30, 30 - 30, 30 - 40, 40 - Ad, 40 - 40, Ad - 40, 40 - 40, Ad - 40, W, \n",
      "15 - 0, 15 - 15, 15 - 30, 30 - 30, 30 - 40, 40 - Ad, 40 - 40, Ad - 40, W, \n",
      "0 - 15, 15 - 15, 30 - 15, 40 - 15, 40 - 30, 40 - 40, 40 - Ad, L, \n"
     ]
    }
   ],
   "source": [
    "for _ in range(30):\n",
    "    player_mc.simulate_game()"
   ]
  },
  {
   "cell_type": "code",
   "execution_count": null,
   "metadata": {},
   "outputs": [],
   "source": []
  },
  {
   "cell_type": "code",
   "execution_count": null,
   "metadata": {},
   "outputs": [],
   "source": []
  }
 ],
 "metadata": {
  "kernelspec": {
   "display_name": "tennis_forecasting",
   "language": "python",
   "name": "python3"
  },
  "language_info": {
   "codemirror_mode": {
    "name": "ipython",
    "version": 3
   },
   "file_extension": ".py",
   "mimetype": "text/x-python",
   "name": "python",
   "nbconvert_exporter": "python",
   "pygments_lexer": "ipython3",
   "version": "3.11.4"
  },
  "orig_nbformat": 4
 },
 "nbformat": 4,
 "nbformat_minor": 2
}
