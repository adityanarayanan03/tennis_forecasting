{
 "cells": [
  {
   "cell_type": "code",
   "execution_count": 1,
   "metadata": {},
   "outputs": [],
   "source": [
    "from Predictor import ServerChainPredictor"
   ]
  },
  {
   "cell_type": "code",
   "execution_count": 5,
   "metadata": {},
   "outputs": [],
   "source": [
    "sc_predictor = ServerChainPredictor()\n",
    "sc_predictor.load('predictions/sc_predictor_80_05')"
   ]
  },
  {
   "cell_type": "code",
   "execution_count": 7,
   "metadata": {},
   "outputs": [
    {
     "ename": "KeyError",
     "evalue": "10",
     "output_type": "error",
     "traceback": [
      "\u001b[0;31m---------------------------------------------------------------------------\u001b[0m",
      "\u001b[0;31mKeyError\u001b[0m                                  Traceback (most recent call last)",
      "Cell \u001b[0;32mIn[7], line 7\u001b[0m\n\u001b[1;32m      4\u001b[0m bucket \u001b[39m=\u001b[39m \u001b[39mint\u001b[39m(row[\u001b[39m'\u001b[39m\u001b[39mp\u001b[39m\u001b[39m'\u001b[39m]\u001b[39m*\u001b[39m\u001b[39m10\u001b[39m)\n\u001b[1;32m      6\u001b[0m \u001b[39mif\u001b[39;00m row[\u001b[39m'\u001b[39m\u001b[39mprediction\u001b[39m\u001b[39m'\u001b[39m] \u001b[39m==\u001b[39m row[\u001b[39m'\u001b[39m\u001b[39mtrue\u001b[39m\u001b[39m'\u001b[39m]:\n\u001b[0;32m----> 7\u001b[0m     hashmap[bucket][\u001b[39m0\u001b[39m] \u001b[39m+\u001b[39m\u001b[39m=\u001b[39m \u001b[39m1\u001b[39m\n\u001b[1;32m      8\u001b[0m hashmap[bucket][\u001b[39m1\u001b[39m] \u001b[39m+\u001b[39m\u001b[39m=\u001b[39m \u001b[39m1\u001b[39m\n\u001b[1;32m      9\u001b[0m hashmap[bucket][\u001b[39m2\u001b[39m] \u001b[39m=\u001b[39m hashmap[bucket][\u001b[39m0\u001b[39m] \u001b[39m/\u001b[39m hashmap[bucket][\u001b[39m1\u001b[39m]\n",
      "\u001b[0;31mKeyError\u001b[0m: 10"
     ]
    }
   ],
   "source": [
    "#Are the predicted odds related to the accuracy?\n",
    "hashmap = {i:[0,0,0] for i in range(11)}\n",
    "for idx, row in sc_predictor.raw_data.iterrows():\n",
    "    bucket = int(row['p']*10)\n",
    "    \n",
    "    if row['prediction'] == row['true']:\n",
    "        hashmap[bucket][0] += 1\n",
    "    hashmap[bucket][1] += 1\n",
    "    hashmap[bucket][2] = hashmap[bucket][0] / hashmap[bucket][1]\n"
   ]
  },
  {
   "cell_type": "code",
   "execution_count": null,
   "metadata": {},
   "outputs": [],
   "source": []
  }
 ],
 "metadata": {
  "kernelspec": {
   "display_name": "tennis_forecasting",
   "language": "python",
   "name": "python3"
  },
  "language_info": {
   "codemirror_mode": {
    "name": "ipython",
    "version": 3
   },
   "file_extension": ".py",
   "mimetype": "text/x-python",
   "name": "python",
   "nbconvert_exporter": "python",
   "pygments_lexer": "ipython3",
   "version": "3.11.4"
  },
  "orig_nbformat": 4
 },
 "nbformat": 4,
 "nbformat_minor": 2
}
